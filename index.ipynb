{
 "cells": [
  {
   "cell_type": "markdown",
   "metadata": {},
   "source": [
    "# STL file display\n",
    "\n",
    "This notebook shows how to display STL files used for 3D printing in a notebook.\n",
    "\n",
    "Displaying relies on the numpy-stl and the ipyvolume libraries.\n",
    "\n",
    "Upload an STL **ascii** file (*binary files not supported*)\n",
    "\n",
    "There are some example files you can upload in the [GitHub repository](https://github.com/voila-gallery/render-stl/tree/master/example-stl-meshes)."
   ]
  },
  {
   "cell_type": "code",
   "execution_count": null,
   "metadata": {},
   "outputs": [],
   "source": [
    "import numpy as np\n",
    "from stl import mesh\n",
    "from traitlets import dlink\n",
    "import ipyvolume as ipv\n",
    "import ipywidgets as widgets\n",
    "from IPython.display import display\n",
    "from io import StringIO\n",
    "\n",
    "# widgets\n",
    "file_picker = widgets.FileUpload(accept='*.stl')\n",
    "file_name = widgets.Text()\n",
    "color_picker = widgets.ColorPicker(\n",
    "            concise=False,\n",
    "            description='Pick a color',\n",
    "            value='white',\n",
    "            disabled=False)\n",
    "vbox = widgets.VBox([widgets.HBox([file_picker, file_name]), color_picker])\n",
    "\n",
    "# display STL file\n",
    "def show_stl(file_content, color):\n",
    "    # bridge: FileUpload - stl.mesh\n",
    "    content = next(iter(file_content.values()))['content']\n",
    "    io = StringIO()\n",
    "    io.write(content.decode('utf-8'))\n",
    "    io.seek(0)\n",
    "    name, data = mesh.Mesh.load(io)\n",
    "    m = mesh.Mesh(data, True, name=name, speedups=True)\n",
    "\n",
    "    ipv.figure()\n",
    "    ipv.style.use('minimal')\n",
    "    m2 = ipv.plot_trisurf(m.x.flatten(), m.z.flatten(), m.y.flatten(), triangles=np.arange(m.x.shape[0] * 3).reshape((m.x.shape[0], 3)), color=color)\n",
    "    return ipv.gcc()\n",
    "\n",
    "# get filename from FileUpload dict\n",
    "def get_name(file_upload):\n",
    "    if len(file_upload) == 0:\n",
    "        return ''\n",
    "    return next(iter(file_upload.values()))['metadata']['name']\n",
    "\n",
    "def change_input(change):\n",
    "    global vbox, file_picker, file_name, color_picker\n",
    "    mymesh = show_stl(file_picker.value, color_picker.value)\n",
    "    vbox.children = (widgets.HBox([file_picker, file_name]), color_picker, mymesh)\n",
    "\n",
    "# links between widgets\n",
    "color_picker.observe(change_input, 'value')\n",
    "dlink((file_picker, 'value'), (file_name, 'value'), get_name)\n",
    "file_picker.observe(change_input, 'value')\n",
    "\n",
    "vbox"
   ]
  }
 ],
 "metadata": {
  "kernelspec": {
   "display_name": "Python 3",
   "language": "python",
   "name": "python3"
  },
  "language_info": {
   "codemirror_mode": {
    "name": "ipython",
    "version": 3
   },
   "file_extension": ".py",
   "mimetype": "text/x-python",
   "name": "python",
   "nbconvert_exporter": "python",
   "pygments_lexer": "ipython3",
   "version": "3.7.6"
  }
 },
 "nbformat": 4,
 "nbformat_minor": 2
}
